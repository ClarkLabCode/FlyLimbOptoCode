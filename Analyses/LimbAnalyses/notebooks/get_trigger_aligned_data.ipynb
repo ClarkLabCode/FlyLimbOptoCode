{
 "cells": [
  {
   "cell_type": "code",
   "execution_count": null,
   "metadata": {},
   "outputs": [],
   "source": [
    "# This notebook converts data into the correct format for running UMAP on the triggered time series analyses"
   ]
  },
  {
   "cell_type": "code",
   "execution_count": null,
   "metadata": {},
   "outputs": [],
   "source": [
    "import numpy as np\n",
    "import pandas as pd\n",
    "import umap\n",
    "import os"
   ]
  },
  {
   "cell_type": "code",
   "execution_count": null,
   "metadata": {},
   "outputs": [],
   "source": [
    "# Define the path to the desired file\n",
    "parent_path = '/Users/bdeangelis/Desktop/Datasets/OptoMethodDatasets/csv'\n",
    "file_name = '20190617_Chrimson_Control_20190607_Merged.csv'\n",
    "full_path = os.path.join(parent_path, file_name)\n"
   ]
  },
  {
   "cell_type": "code",
   "execution_count": null,
   "metadata": {},
   "outputs": [],
   "source": [
    "# Read the csv into a pandas dataFrame\n",
    "data = pd.read_csv(full_path)\n",
    "data.head()"
   ]
  },
  {
   "cell_type": "code",
   "execution_count": null,
   "metadata": {},
   "outputs": [],
   "source": [
    "data.shape"
   ]
  },
  {
   "cell_type": "code",
   "execution_count": null,
   "metadata": {},
   "outputs": [],
   "source": [
    "# Add a column that is true if any limb was hit\n",
    "data['any_hit'] = (data.L1_hit| data.L2_hit | data.L3_hit | data.R1_hit| data.R2_hit | data.R3_hit)"
   ]
  },
  {
   "cell_type": "code",
   "execution_count": null,
   "metadata": {},
   "outputs": [],
   "source": [
    "# Testing: Shorten data\n",
    "data = data[0:20000]\n",
    "data.shape"
   ]
  },
  {
   "cell_type": "code",
   "execution_count": null,
   "metadata": {},
   "outputs": [],
   "source": [
    "len(data.uniqueFlyTrajID.unique())\n",
    "type(list(data.columns))"
   ]
  },
  {
   "cell_type": "code",
   "execution_count": null,
   "metadata": {},
   "outputs": [],
   "source": [
    "# Define the window length\n",
    "win_len = 50\n",
    "\n",
    "# Create an empty dataFrame for storing the output time-series\n",
    "time_cols = list(data.columns)\n",
    "time_cols.append('trial_id')\n",
    "timeseries = pd.DataFrame(columns=time_cols)\n",
    "\n",
    "# Groupby id and get all the trajectories\n",
    "grouped = data.groupby('uniqueFlyTrajID')\n",
    "\n",
    "counter = 1\n",
    "for id, group in grouped:\n",
    "    \n",
    "    # Check that the id has enough data to have a valid trajectory\n",
    "    if group.shape[0] >= (win_len*2)+1:\n",
    "    \n",
    "        # Append the new data to the dataFrame\n",
    "        temp = [group[int(x-win_len):int(x+win_len+1)].reset_index(drop=True) for x in np.argwhere(group.any_hit == 1)]\n",
    "\n",
    "        # Check the length of each section that is being appended\n",
    "        for v in temp:\n",
    "            if v.shape[0] == ((win_len*2) + 1):\n",
    "\n",
    "                # Add a variable that is the trial_id\n",
    "                v['trial_id'] = counter\n",
    "                \n",
    "                # Append the current trial to the new dataset\n",
    "                timeseries = timeseries.append(v)\n",
    "            \n",
    "                # Increment the counter\n",
    "                counter = counter + 1\n",
    "\n",
    "    "
   ]
  },
  {
   "cell_type": "code",
   "execution_count": null,
   "metadata": {},
   "outputs": [],
   "source": [
    "print(timeseries.shape)\n",
    "print(timeseries.columns)"
   ]
  },
  {
   "cell_type": "code",
   "execution_count": null,
   "metadata": {},
   "outputs": [],
   "source": [
    "val_list = ['L1_xPlot_mm', 'L2_xPlot_mm', 'L3_xPlot_mm',\n",
    "            'R1_xPlot_mm', 'R2_xPlot_mm', 'R3_xPlot_mm', \n",
    "            'L1_yPlot_mm', 'L2_yPlot_mm', 'L3_yPlot_mm', \n",
    "            'R1_yPlot_mm', 'R2_yPlot_mm','R3_yPlot_mm']\n",
    "timeseries['time'] = timeseries.index \n",
    "trials = timeseries.pivot(index='trial_id', columns='time', values=val_list)\n",
    "trials.head()"
   ]
  },
  {
   "cell_type": "code",
   "execution_count": null,
   "metadata": {},
   "outputs": [],
   "source": []
  }
 ],
 "metadata": {
  "kernelspec": {
   "display_name": "methods-3.7.4",
   "language": "python",
   "name": "methods-3.7.4"
  },
  "language_info": {
   "codemirror_mode": {
    "name": "ipython",
    "version": 3
   },
   "file_extension": ".py",
   "mimetype": "text/x-python",
   "name": "python",
   "nbconvert_exporter": "python",
   "pygments_lexer": "ipython3",
   "version": "3.7.4"
  }
 },
 "nbformat": 4,
 "nbformat_minor": 2
}
